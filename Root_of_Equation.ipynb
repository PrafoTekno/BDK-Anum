{
 "cells": [
  {
   "cell_type": "markdown",
   "metadata": {},
   "source": [
    "#### Deklarasi library yang diperlukan"
   ]
  },
  {
   "cell_type": "code",
   "execution_count": 7,
   "metadata": {},
   "outputs": [],
   "source": [
    "import math\n",
    "import logging\n",
    "from numpy import sign"
   ]
  },
  {
   "cell_type": "code",
   "execution_count": 8,
   "metadata": {},
   "outputs": [
    {
     "name": "stderr",
     "output_type": "stream",
     "text": [
      "ERROR:root:Matrix is singular\n"
     ]
    }
   ],
   "source": [
    "logging.basicConfig (level=logging.ERROR)\n",
    "logging.error ('Matrix is singular')"
   ]
  },
  {
   "cell_type": "markdown",
   "metadata": {},
   "source": [
    "#### Fungsi untuk mencari akar-akar persamaan"
   ]
  },
  {
   "cell_type": "code",
   "execution_count": 18,
   "metadata": {},
   "outputs": [],
   "source": [
    "def rootsearch(f,a,b,dx):\n",
    "    x1 = a; f1 = f(a)\n",
    "    x2 = a + dx; f2 = f(x2)\n",
    "    while sign(f1) == sign(f2):\n",
    "        if x1  >=  b: return None,None\n",
    "        x1 = x2; f1 = f2\n",
    "        x2 = x1 + dx; f2 = f(x2)\n",
    "    else:\n",
    "        return x1,x2"
   ]
  },
  {
   "cell_type": "markdown",
   "metadata": {},
   "source": [
    "#### Main code untuk bisection"
   ]
  },
  {
   "cell_type": "code",
   "execution_count": 11,
   "metadata": {},
   "outputs": [],
   "source": [
    "def bisection(f,x1,x2,switch=1,tol=1.0e-9):\n",
    "\n",
    "    f1 = f(x1)\n",
    "    if f1 == 0.0: \n",
    "        return x1\n",
    "    f2 = f(x2)\n",
    "    if f2 == 0.0: \n",
    "        return x2\n",
    "    if sign(f1) == sign(f2):\n",
    "        logging.error('Root is not bracketed')\n",
    "    n = int(math.ceil(math.log(abs(x2 - x1)/tol)/math.log(2.0)))\n",
    "    for i in range(n):\n",
    "        x3 = 0.5*(x1 + x2); f3 = f(x3)\n",
    "        if (switch == 1) and (abs(f3) > abs(f1)) \\\n",
    "                         and (abs(f3) > abs(f2)):\n",
    "            return None\n",
    "        \n",
    "        if f3 == 0.0: \n",
    "            return x3\n",
    "        if sign(f2)!= sign(f3): \n",
    "            x1 = x3; f1 = f3\n",
    "        else: \n",
    "            x2 = x3; f2 = f3\n",
    "\n",
    "    return (x1 + x2)/2.0\n"
   ]
  },
  {
   "cell_type": "markdown",
   "metadata": {},
   "source": [
    "#### Contoh soal 1 example 4.2"
   ]
  },
  {
   "cell_type": "code",
   "execution_count": 20,
   "metadata": {},
   "outputs": [
    {
     "name": "stdout",
     "output_type": "stream",
     "text": [
      "x = 0.7346\n"
     ]
    },
    {
     "data": {
      "text/plain": [
       "''"
      ]
     },
     "execution_count": 20,
     "metadata": {},
     "output_type": "execute_result"
    }
   ],
   "source": [
    "def f(x): \n",
    "    return x**3 - 10.0*x**2 + 5.0\n",
    "\n",
    "x = bisection(f, 0.0, 1.0, tol = 1.0e-4)\n",
    "print('x =', '{:6.4f}'.format(x))\n",
    "input(\"Press return to exit\")"
   ]
  },
  {
   "cell_type": "markdown",
   "metadata": {},
   "source": [
    "### contoh soal 2 example 4.3"
   ]
  },
  {
   "cell_type": "code",
   "execution_count": 21,
   "metadata": {},
   "outputs": [
    {
     "name": "stdout",
     "output_type": "stream",
     "text": [
      "The roots are:\n",
      "0.0\n",
      "4.493409458100745\n",
      "7.725251837074637\n",
      "10.904121659695917\n",
      "14.06619391292308\n",
      "17.220755272209537\n",
      "\n",
      "Done\n"
     ]
    },
    {
     "data": {
      "text/plain": [
       "''"
      ]
     },
     "execution_count": 21,
     "metadata": {},
     "output_type": "execute_result"
    }
   ],
   "source": [
    "def f(x): \n",
    "    return x - math.tan(x)\n",
    "\n",
    "a,b,dx = (0.0, 20.0, 0.01)\n",
    "print(\"The roots are:\")\n",
    "while True:\n",
    "    x1,x2 = rootsearch(f,a,b,dx)\n",
    "    if x1 != None:\n",
    "        a = x2\n",
    "        root = bisection(f,x1,x2,1)\n",
    "        if root != None: print(root)\n",
    "    else:\n",
    "        print(\"\\nDone\")\n",
    "        break\n",
    "input(\"Press return to exit\")"
   ]
  }
 ],
 "metadata": {
  "kernelspec": {
   "display_name": "Anum",
   "language": "python",
   "name": "python3"
  },
  "language_info": {
   "codemirror_mode": {
    "name": "ipython",
    "version": 3
   },
   "file_extension": ".py",
   "mimetype": "text/x-python",
   "name": "python",
   "nbconvert_exporter": "python",
   "pygments_lexer": "ipython3",
   "version": "3.10.5"
  }
 },
 "nbformat": 4,
 "nbformat_minor": 2
}
