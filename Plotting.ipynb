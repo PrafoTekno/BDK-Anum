{
 "cells": [
  {
   "cell_type": "code",
   "execution_count": 109,
   "metadata": {},
   "outputs": [],
   "source": [
    "import numpy as np\n",
    "import random"
   ]
  },
  {
   "cell_type": "code",
   "execution_count": 114,
   "metadata": {},
   "outputs": [
    {
     "name": "stdout",
     "output_type": "stream",
     "text": [
      "49\n"
     ]
    }
   ],
   "source": [
    "y_data1 = np.array ([14.3175479, 0.92054765, 23.2925276, -17.4986091,  -16.94932916,\n",
    " -11.58207327, -21.34536182,   6.38116242,   4.65650798,  11.21964583,\n",
    "  12.26596314,  22.03675471,  -7.35525923,  15.14465718, -19.00408436,\n",
    "  12.168594,    24.88687485,  24.24066932,  -7.55427387,  14.4985789,\n",
    "  21.62865868,   3.29697108, -15.70601761,  -0.4708342,  -7.42030894,\n",
    "  14.38162283,   6.63901545,  -5.88536424,  -2.69355842 -20.69116677,\n",
    "  12.07207299,   1.04675634,   9.99446215,  14.98718849,  -7.33901069,\n",
    "   6.74517357,   2.30202694, -10.31439548, -13.28513278,  14.23455895,\n",
    " -16.07237381,   9.6477658,  -20.65549708, -9.78003468, -15.66211802,\n",
    " -23.08019089, -22.1512766,   17.81518843, -10.16475258, -18.98586465, 20])\n",
    "\n",
    "print (len(y_data1))"
   ]
  },
  {
   "cell_type": "code",
   "execution_count": 115,
   "metadata": {},
   "outputs": [
    {
     "name": "stdout",
     "output_type": "stream",
     "text": [
      "50\n"
     ]
    }
   ],
   "source": [
    "x_data1 = np.arange (0, 50, 1)\n",
    "print (len (x_data1))"
   ]
  }
 ],
 "metadata": {
  "kernelspec": {
   "display_name": "Anum",
   "language": "python",
   "name": "python3"
  },
  "language_info": {
   "codemirror_mode": {
    "name": "ipython",
    "version": 3
   },
   "file_extension": ".py",
   "mimetype": "text/x-python",
   "name": "python",
   "nbconvert_exporter": "python",
   "pygments_lexer": "ipython3",
   "version": "3.10.5"
  }
 },
 "nbformat": 4,
 "nbformat_minor": 2
}
