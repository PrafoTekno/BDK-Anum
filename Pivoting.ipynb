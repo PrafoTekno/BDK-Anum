{
 "cells": [
  {
   "cell_type": "markdown",
   "metadata": {},
   "source": [
    "### Pivoting"
   ]
  },
  {
   "cell_type": "markdown",
   "metadata": {},
   "source": [
    "#### Deklarasi library"
   ]
  },
  {
   "cell_type": "code",
   "execution_count": 1,
   "metadata": {},
   "outputs": [],
   "source": [
    "import numpy as np\n",
    "import logging"
   ]
  },
  {
   "cell_type": "code",
   "execution_count": 2,
   "metadata": {},
   "outputs": [
    {
     "name": "stderr",
     "output_type": "stream",
     "text": [
      "ERROR:root:Matrix is singular\n"
     ]
    }
   ],
   "source": [
    "logging.basicConfig (level=logging.ERROR)\n",
    "logging.error ('Matrix is singular')"
   ]
  },
  {
   "cell_type": "code",
   "execution_count": 3,
   "metadata": {},
   "outputs": [],
   "source": [
    "def tukarBaris (matrix, row1, row2):\n",
    "    matrix[[row1, row2]] = matrix[[row2, row1]]"
   ]
  },
  {
   "cell_type": "code",
   "execution_count": 4,
   "metadata": {},
   "outputs": [
    {
     "name": "stdout",
     "output_type": "stream",
     "text": [
      "a\n",
      " [[1 2 3]\n",
      " [3 4 2]\n",
      " [7 7 5]] \n",
      "\n",
      "\n",
      "a\n",
      " [[1 2 3]\n",
      " [7 7 5]\n",
      " [3 4 2]]\n"
     ]
    }
   ],
   "source": [
    "a = np.array ([[1,2,3], [3,4,2], [7,7,5]])\n",
    "print (f\"a\\n {a} \\n\\n\")\n",
    "tukarBaris (a, 1, 2)\n",
    "print (f\"a\\n {a}\")"
   ]
  },
  {
   "cell_type": "markdown",
   "metadata": {},
   "source": [
    "#### Fungsi Decomposition"
   ]
  },
  {
   "cell_type": "code",
   "execution_count": 5,
   "metadata": {},
   "outputs": [],
   "source": [
    "def Decom (matA, nilai_toleransi):\n",
    "    panjang_mat = len (matA)\n",
    "    urutan = np.array (range (panjang_mat))\n",
    "\n",
    "    # buat faktor skala\n",
    "    faktor_skala = np.zeros ((panjang_mat))\n",
    "    # cek nilai terbesar dari tiap baris\n",
    "    for s in range (panjang_mat):\n",
    "        faktor_skala[s] = max (abs (matA[s,:]))\n",
    "    #print (f\"s \\n {faktor_skala}\\n\\n\")\n",
    "\n",
    "    for k in range (0, panjang_mat-1):\n",
    "        \n",
    "        # menentukan index keberapa yang memiliki nilai terbesar\n",
    "        p = np.argmax (np.abs (matA[k:panjang_mat, k]) / faktor_skala[k:panjang_mat]) + k\n",
    "        #print (f\"p = {p} | k = {k} | A[p,k] = {matA[p,k]}\")\n",
    "\n",
    "        if abs(matA[p,k]) <  nilai_toleransi: logging.error('Matrix is singular')\n",
    "        \n",
    "        if p != k:\n",
    "           tukarBaris (faktor_skala, k, p)\n",
    "           tukarBaris (matA, k, p)\n",
    "           tukarBaris (urutan, k, p)\n",
    "\n",
    "     # Elimination\n",
    "        for i in range(k+1,panjang_mat):\n",
    "            if matA[i,k] != 0.0:\n",
    "                lam = matA[i,k] / matA[k,k]\n",
    "                matA[i,k+1:panjang_mat] = matA[i,k+1:panjang_mat] - lam*matA[k,k+1:panjang_mat]\n",
    "                matA[i,k] = lam\n",
    "\n",
    "    return matA, urutan"
   ]
  },
  {
   "cell_type": "markdown",
   "metadata": {},
   "source": [
    "#### Fungsi Solve"
   ]
  },
  {
   "cell_type": "code",
   "execution_count": 11,
   "metadata": {},
   "outputs": [],
   "source": [
    "def Solve (matA, matB, urutan):\n",
    "    panjang_mat = len (matA)\n",
    "\n",
    "    # atur urutan konstanta \n",
    "    y = matB.copy()\n",
    "    #print (f\"y \\n {y}\")\n",
    "    \n",
    "    for i in range (panjang_mat):\n",
    "        y[i] = matB[urutan[i]]\n",
    "    #print (f\"y \\n {y}\")\n",
    "\n",
    "    # Solution\n",
    "    for k in range (1, panjang_mat):\n",
    "        y[k] = y[k] - np.dot (matA[k,0:k], y[0:k])\n",
    "        #print (f\"y[{k}] = {y[k]}\")\n",
    "    y[panjang_mat-1] = y[panjang_mat-1] / matA[panjang_mat-1, panjang_mat-1]\n",
    "    \n",
    "    #print (y)\n",
    "\n",
    "    for k in range (panjang_mat-2, -1, -1):  # range (start, stop, step)\n",
    "       y[k] = (y[k] - np.dot(matA[k, k+1:panjang_mat], y[k+1:panjang_mat])) / matA[k, k]\n",
    "       #print (f\"\\ny[{k}] = {y[k]}\")\n",
    "\n",
    "    return y "
   ]
  },
  {
   "cell_type": "markdown",
   "metadata": {},
   "source": [
    "#### Contoh kasus"
   ]
  },
  {
   "cell_type": "code",
   "execution_count": 7,
   "metadata": {},
   "outputs": [
    {
     "name": "stdout",
     "output_type": "stream",
     "text": [
      "[[ 2 -2  6]\n",
      " [-2  4  3]\n",
      " [-1  8  4]]\n"
     ]
    }
   ],
   "source": [
    "a = np.array ([[2, -2, 6], \n",
    "               [-2, 4, 3], \n",
    "               [-1, 8, 4]])\n",
    "print (a)"
   ]
  },
  {
   "cell_type": "code",
   "execution_count": 8,
   "metadata": {},
   "outputs": [
    {
     "name": "stdout",
     "output_type": "stream",
     "text": [
      "[[16]\n",
      " [ 0]\n",
      " [ 1]]\n"
     ]
    }
   ],
   "source": [
    "b = np.array ([[16],\n",
    "               [0], \n",
    "               [1]])\n",
    "print (b)"
   ]
  },
  {
   "cell_type": "code",
   "execution_count": 9,
   "metadata": {},
   "outputs": [
    {
     "name": "stdout",
     "output_type": "stream",
     "text": [
      "\n",
      "A = \n",
      " [[-2  4  3]\n",
      " [ 0  6  2]\n",
      " [-1  0  8]] \n",
      "\n",
      " seq = \n",
      " [1 2 0]\n"
     ]
    }
   ],
   "source": [
    "a, seq = Decom (a, 1.0e-9)\n",
    "print (f\"\\nA = \\n {a} \\n\\n seq = \\n {seq}\")"
   ]
  },
  {
   "cell_type": "code",
   "execution_count": 12,
   "metadata": {},
   "outputs": [
    {
     "name": "stdout",
     "output_type": "stream",
     "text": [
      "Hasil Y\n",
      " [[3]\n",
      " [0]\n",
      " [2]]\n"
     ]
    }
   ],
   "source": [
    "y = Solve (a, b, seq)\n",
    "print (f\"Hasil Y\\n {y}\")"
   ]
  }
 ],
 "metadata": {
  "kernelspec": {
   "display_name": "myEnv",
   "language": "python",
   "name": "python3"
  },
  "language_info": {
   "codemirror_mode": {
    "name": "ipython",
    "version": 3
   },
   "file_extension": ".py",
   "mimetype": "text/x-python",
   "name": "python",
   "nbconvert_exporter": "python",
   "pygments_lexer": "ipython3",
   "version": "3.10.5"
  }
 },
 "nbformat": 4,
 "nbformat_minor": 2
}
