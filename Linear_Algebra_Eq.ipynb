{
 "cells": [
  {
   "attachments": {},
   "cell_type": "markdown",
   "metadata": {},
   "source": [
    "## System of Linear Algebra Equation "
   ]
  },
  {
   "cell_type": "code",
   "execution_count": 1,
   "metadata": {},
   "outputs": [],
   "source": [
    "import numpy as np"
   ]
  },
  {
   "cell_type": "markdown",
   "metadata": {},
   "source": [
    "### Contoh"
   ]
  },
  {
   "cell_type": "code",
   "execution_count": 2,
   "metadata": {},
   "outputs": [
    {
     "name": "stdout",
     "output_type": "stream",
     "text": [
      "eq1 = \n",
      "[2 3 6]\n",
      "\n",
      " eq2 = \n",
      "[12  9 10]\n"
     ]
    }
   ],
   "source": [
    "a = 2\n",
    "b = 3\n",
    "c = 6  # hasil eq 1\n",
    "\n",
    "d = 12\n",
    "e = 9\n",
    "f = 10 # hasil eq 2\n",
    "\n",
    "eq1 = np.array ([a, b, c])\n",
    "eq2 = np.array ([d, e, f])\n",
    "\n",
    "print (f\"eq1 = \\n{eq1}\\n\\n eq2 = \\n{eq2}\")"
   ]
  },
  {
   "cell_type": "markdown",
   "metadata": {},
   "source": [
    "#### Method 1"
   ]
  },
  {
   "cell_type": "markdown",
   "metadata": {},
   "source": [
    "##### Menjadikan bentuk [1 ... ... \\n 0 ... ...]"
   ]
  },
  {
   "cell_type": "code",
   "execution_count": 3,
   "metadata": {},
   "outputs": [
    {
     "name": "stdout",
     "output_type": "stream",
     "text": [
      "\n",
      "\n",
      "hasil = \n",
      "[[[  1.    1.5   3. ]]\n",
      "\n",
      " [[  0.   -9.  -26. ]]]\n"
     ]
    }
   ],
   "source": [
    "eq1 = eq1/a\n",
    "eq2 = eq2 - d*eq1\n",
    "\n",
    "hasil = np.array ([[eq1], [eq2]])\n",
    "\n",
    "print (f\"\\n\\nhasil = \\n{hasil}\")"
   ]
  },
  {
   "cell_type": "markdown",
   "metadata": {},
   "source": [
    "##### Menentukan variable kedua"
   ]
  },
  {
   "cell_type": "code",
   "execution_count": 4,
   "metadata": {},
   "outputs": [
    {
     "name": "stdout",
     "output_type": "stream",
     "text": [
      "val = 2.888888888888889 \n",
      " -26.0\n",
      "-9.0\n"
     ]
    }
   ],
   "source": [
    "val_b = eq2[-1]/eq2[-2]\n",
    "print (f\"val = {val_b} \\n {eq2[-1]}\\n{eq2[-2]}\")"
   ]
  },
  {
   "cell_type": "markdown",
   "metadata": {},
   "source": [
    "##### Menentukan variable pertama"
   ]
  },
  {
   "cell_type": "code",
   "execution_count": 5,
   "metadata": {},
   "outputs": [
    {
     "name": "stdout",
     "output_type": "stream",
     "text": [
      "val_a = -1.333333333333333\n"
     ]
    }
   ],
   "source": [
    "val_a = eq1[-1] - (eq1[-2]*val_b)\n",
    "print (f\"val_a = {val_a}\")"
   ]
  },
  {
   "cell_type": "markdown",
   "metadata": {},
   "source": [
    "#### Method 2"
   ]
  },
  {
   "cell_type": "markdown",
   "metadata": {},
   "source": [
    "##### Tulis setiap persamaan"
   ]
  },
  {
   "cell_type": "code",
   "execution_count": 9,
   "metadata": {},
   "outputs": [
    {
     "name": "stdout",
     "output_type": "stream",
     "text": [
      "eq[1] : [2. 5. 7. 2.]\n",
      "eq[2] : [9. 3. 2. 1.]\n",
      "eq[3] : [0. 5. 2. 5.]\n"
     ]
    }
   ],
   "source": [
    "num_eq = 3\n",
    "eq = [np.array ([]) for i in range (num_eq)]  # inisialisasi array kosong berdasarkan num_eq\n",
    "\n",
    "for i in range(num_eq):\n",
    "\n",
    "    for j in range(num_eq + 1):\n",
    "\n",
    "        while True:  # Looping sampe jawaban yang dimasukan adalah angka\n",
    "            value = input (f\"val[{j}] = \")\n",
    "            \n",
    "            try:\n",
    "                value = float (value)  # konvert string ke float\n",
    "                break  # keluar dari while\n",
    "            except ValueError:\n",
    "                print (\"Invalid input. Please enter a valid number.\")  # kalau salah input (bukan angka)\n",
    "        \n",
    "        eq[i] = np.append (eq[i], value) # tampung semua koefisien \n",
    "    \n",
    "    print (f\"eq[{i+1}] : {eq[i]}\")\n"
   ]
  },
  {
   "cell_type": "code",
   "execution_count": 13,
   "metadata": {},
   "outputs": [
    {
     "name": "stdout",
     "output_type": "stream",
     "text": [
      "1.0\n",
      "5.0\n",
      "7.0\n",
      "2.0\n",
      "eq[1] : [1. 5. 7. 2.]\n",
      "3.0\n",
      "1.0\n",
      "2.0\n",
      "1.0\n",
      "eq[2] : [3. 1. 2. 1.]\n",
      "0.0\n",
      "2.5\n",
      "1.0\n",
      "5.0\n",
      "eq[3] : [0.  2.5 1.  5. ]\n"
     ]
    }
   ],
   "source": [
    "\n",
    "for i in range (num_eq):\n",
    "    for j in range (num_eq+1):\n",
    "        eq[i][j] = eq[i][j]/eq[i][i]\n",
    "        print (eq[i][j])\n",
    "    print (f\"eq[{i+1}] : {eq[i]}\")"
   ]
  },
  {
   "cell_type": "code",
   "execution_count": 15,
   "metadata": {},
   "outputs": [],
   "source": [
    "## module gaussElimin\n",
    "\n",
    "def gaussElimin (a,b):\n",
    "    n = len(b)\n",
    "\n",
    "    # Elimination Phase\n",
    "    for k in range(0,n-1):\n",
    "        for i in range(k+1,n):\n",
    "            if a[i,k] != 0.0:\n",
    "                lam = a [i,k]/a[k,k]\n",
    "                a[i,k+1:n] = a[i,k+1:n] - lam*a[k,k+1:n]\n",
    "                b[i] = b[i] - lam*b[k]\n",
    "\n",
    "    # Back substitution\n",
    "    for k in range(n-1,-1,-1):\n",
    "        b[k] = (b[k] - np.dot(a[k,k+1:n],b[k+1:n]))/a[k,k]\n",
    "        \n",
    "    return b\n"
   ]
  }
 ],
 "metadata": {
  "kernelspec": {
   "display_name": "Python 3",
   "language": "python",
   "name": "python3"
  },
  "language_info": {
   "codemirror_mode": {
    "name": "ipython",
    "version": 3
   },
   "file_extension": ".py",
   "mimetype": "text/x-python",
   "name": "python",
   "nbconvert_exporter": "python",
   "pygments_lexer": "ipython3",
   "version": "3.10.5"
  },
  "orig_nbformat": 4
 },
 "nbformat": 4,
 "nbformat_minor": 2
}
