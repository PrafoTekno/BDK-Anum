{
 "cells": [
  {
   "cell_type": "markdown",
   "metadata": {},
   "source": [
    "#### By Salfatore"
   ]
  },
  {
   "cell_type": "code",
   "execution_count": 1,
   "metadata": {},
   "outputs": [],
   "source": [
    "import numpy as np\n",
    "import math as mt\n",
    "import logging as log\n",
    "\n",
    "import matplotlib.pyplot as plt\n",
    "import random as rnd"
   ]
  },
  {
   "cell_type": "code",
   "execution_count": 2,
   "metadata": {},
   "outputs": [
    {
     "name": "stderr",
     "output_type": "stream",
     "text": [
      "ERROR:root:Matrix is singular\n"
     ]
    }
   ],
   "source": [
    "log.basicConfig (level=log.ERROR)\n",
    "log.error ('Matrix is singular')"
   ]
  },
  {
   "cell_type": "code",
   "execution_count": 3,
   "metadata": {},
   "outputs": [],
   "source": [
    "def Tukar (matrix, a, b):\n",
    "    matrix[[a, b]] = matrix[[b, a]]"
   ]
  },
  {
   "cell_type": "markdown",
   "metadata": {},
   "source": [
    "#### Least-Square Fit"
   ]
  },
  {
   "cell_type": "code",
   "execution_count": 4,
   "metadata": {},
   "outputs": [],
   "source": [
    "def GaussPivot (a, b, tol=1.0e-12):\n",
    "\n",
    "    n = len(b)\n",
    "  # Set up scale factors\n",
    "    s = np.zeros(n)\n",
    "\n",
    "    for i in range(n):\n",
    "        s[i] = max(np.abs(a[i,:]))\n",
    "\n",
    "    for k in range(0,n-1):\n",
    "\n",
    "      # Row interchange, if needed\n",
    "        p = np.argmax(np.abs(a[k:n,k])/s[k:n]) + k\n",
    "\n",
    "        if abs(a[p,k]) < tol: \n",
    "            log.error('Matrix is singular')\n",
    "        if p != k:\n",
    "            Tukar(b,k,p)\n",
    "            Tukar(s,k,p)\n",
    "            Tukar(a,k,p)\n",
    "\n",
    "      # Elimination\n",
    "        for i in range(k+1,n):\n",
    "            if a[i,k] != 0.0:\n",
    "                lam = a[i,k]/a[k,k]\n",
    "                a[i,k+1:n] = a[i,k+1:n] - lam*a[k,k+1:n]\n",
    "                b[i] = b[i] - lam*b[k]\n",
    "\n",
    "    if abs(a[n-1,n-1]) < tol: \n",
    "        log.error('Matrix is singular')\n",
    "                                        \n",
    "  # Back substitution\n",
    "    b[n-1] = b[n-1]/a[n-1,n-1]\n",
    "\n",
    "    for k in range(n-2,-1,-1):\n",
    "        b[k] = (b[k] - np.dot(a[k,k+1:n],b[k+1:n]))/a[k,k]\n",
    "    return b"
   ]
  },
  {
   "cell_type": "code",
   "execution_count": 5,
   "metadata": {},
   "outputs": [],
   "source": [
    "def polyFit(xData, yData, m):\n",
    "    \n",
    "    a = np.zeros((m+1,m+1))\n",
    "    b = np.zeros(m+1)\n",
    "    s = np.zeros(2*m+1)\n",
    "\n",
    "    for i in range(len(xData)):\n",
    "        temp = yData[i]\n",
    "        for j in range(m+1):\n",
    "            b[j] = b[j] + temp\n",
    "            temp = temp*xData[i]\n",
    "        temp = 1.0\n",
    "\n",
    "        for j in range(2*m+1):\n",
    "            s[j] = s[j] + temp\n",
    "            temp = temp*xData[i]\n",
    "\n",
    "    for i in range(m+1):\n",
    "        \n",
    "        for j in range(m+1):\n",
    "            a[i,j] = s[i+j]\n",
    "        \n",
    "    return GaussPivot (a, b)\n"
   ]
  },
  {
   "cell_type": "code",
   "execution_count": 6,
   "metadata": {},
   "outputs": [],
   "source": [
    "def stdDev(c,xData,yData):\n",
    "\n",
    "    def evalPoly(c,x):\n",
    "\n",
    "        m = len(c) - 1\n",
    "        p = c[m]\n",
    "        for j in range(m):\n",
    "            p = p*x + c[m-j-1]\n",
    "        return p\n",
    "    \n",
    "    n = len(xData) - 1\n",
    "    m = len(c) - 1\n",
    "    sigma = 0.0\n",
    "    \n",
    "    for i in range(n+1):\n",
    "        p = evalPoly(c,xData[i])\n",
    "        sigma = sigma + (yData[i] - p)**2\n",
    "        \n",
    "    sigma = mt.sqrt(sigma/(n - m))\n",
    "\n",
    "    return sigma"
   ]
  },
  {
   "cell_type": "code",
   "execution_count": 7,
   "metadata": {},
   "outputs": [],
   "source": [
    "def plotPoly (xData,yData,coeff,xlab='x',ylab='y'):\n",
    "             \n",
    "    m = len(coeff)\n",
    "    x1 = min(xData)\n",
    "    x2 = max(xData)\n",
    "    dx = (x2 - x1)/20.0\n",
    "    x = np.arange(x1,x2 + dx/10.0,dx)\n",
    "    y = np.zeros((len(x)))*1.0\n",
    "\n",
    "    for i in range(m):\n",
    "        y = y + coeff[i]*x**i\n",
    "        \n",
    "    plt.scatter (xData, yData, color=\"red\", label=\"data\")\n",
    "    plt.plot (x, y, color=\"green\", label=\"fitting\")\n",
    "\n",
    "    plt.xlabel (xlab)\n",
    "    plt.ylabel (ylab)\n",
    "    plt.grid (True)\n",
    "\n",
    "    plt.legend (loc=\"best\")\n",
    "    plt.show()"
   ]
  },
  {
   "cell_type": "markdown",
   "metadata": {},
   "source": [
    "##### Contoh Soal"
   ]
  },
  {
   "cell_type": "code",
   "execution_count": 8,
   "metadata": {},
   "outputs": [
    {
     "name": "stdout",
     "output_type": "stream",
     "text": [
      "x = [-0.04  0.93  1.95  2.9   3.83  5.    5.98  7.05  8.21  9.08 10.09] \n",
      " y = [-8.66 -6.44 -4.36 -3.27 -0.88  0.87  3.31  4.63  6.19  7.4   8.85]\n"
     ]
    }
   ],
   "source": [
    "x_data = np.array([-0.04,0.93,1.95,2.90,3.83,5.0,      \\\n",
    "                   5.98,7.05,8.21,9.08,10.09])\n",
    "y_data = np.array([-8.66,-6.44,-4.36,-3.27,-0.88,0.87, \\\n",
    "                   3.31,4.63,6.19,7.4,8.85])\n",
    "\n",
    "print (f\"x = {x_data} \\n y = {y_data}\")"
   ]
  },
  {
   "cell_type": "code",
   "execution_count": 9,
   "metadata": {},
   "outputs": [
    {
     "name": "stdout",
     "output_type": "stream",
     "text": [
      "Coefficients are:\n",
      " [-8.46603423e+00  1.98104441e+00  2.88447008e-03 -2.98524686e-03]\n",
      "Std. deviation = 0.31948179156753187\n",
      "Coefficients are:\n",
      " [-8.46603423e+00  1.98104441e+00  2.88447008e-03 -2.98524686e-03]\n",
      "Std. deviation = 0.31948179156753187\n",
      "Coefficients are:\n",
      " [-8.57005662  2.15121691 -0.04197119]\n",
      "Std. deviation = 0.3109920728551074\n"
     ]
    },
    {
     "data": {
      "text/plain": [
       "''"
      ]
     },
     "execution_count": 9,
     "metadata": {},
     "output_type": "execute_result"
    }
   ],
   "source": [
    "while True:\n",
    "\n",
    "    try:\n",
    "\n",
    "        m = eval(input(\"\\nDegree of polynomial ==> \"))\n",
    "        coeff = polyFit (x_data, y_data, m)\n",
    "        print(\"Coefficients are:\\n\",coeff)\n",
    "        print(\"Std. deviation =\", stdDev (coeff,x_data, y_data) )\n",
    "    \n",
    "    except SyntaxError: break\n",
    "\n",
    "input(\"Finished. Press return to exit\")"
   ]
  },
  {
   "cell_type": "code",
   "execution_count": 10,
   "metadata": {},
   "outputs": [
    {
     "data": {
      "image/png": "[encoded data removed]",
      "text/plain": [
       "<Figure size 640x480 with 1 Axes>"
      ]
     },
     "metadata": {},
     "output_type": "display_data"
    }
   ],
   "source": [
    "plotPoly (x_data, y_data, coeff)"
   ]
  }
 ],
 "metadata": {
  "kernelspec": {
   "display_name": "Anum",
   "language": "python",
   "name": "python3"
  },
  "language_info": {
   "codemirror_mode": {
    "name": "ipython",
    "version": 3
   },
   "file_extension": ".py",
   "mimetype": "text/x-python",
   "name": "python",
   "nbconvert_exporter": "python",
   "pygments_lexer": "ipython3",
   "version": "3.10.5"
  }
 },
 "nbformat": 4,
 "nbformat_minor": 2
}
